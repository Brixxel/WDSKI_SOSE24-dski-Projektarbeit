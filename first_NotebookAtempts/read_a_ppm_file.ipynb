{
 "cells": [
  {
   "cell_type": "code",
   "execution_count": null,
   "metadata": {},
   "outputs": [],
   "source": [
    "import numpy as np\n",
    "import matplotlib.pyplot as plt\n",
    "\n",
    "def load_ppm(filename):\n",
    "    with open(filename, 'rb') as f:\n",
    "        header = f.readline().decode('utf-8').strip()\n",
    "        assert header == 'P6', \"Nur P6-PPM-Dateien werden unterstützt.\"\n",
    "        size = f.readline().decode('utf-8').strip().split()\n",
    "        width, height = int(size[0]), int(size[1])\n",
    "        maxval = int(f.readline().decode('utf-8').strip())\n",
    "        data = np.fromfile(f, dtype=np.uint8, count=width * height * 3)\n",
    "        image = data.reshape((height, width, 3))\n",
    "        return image\n",
    "\n",
    "ppm_filename = \"C:/Users/de136581/Documents/Uni/SoSe_2024/DSKI_Projekt/Data_trafic_Signs/GTSRB/Training/00003/00001_00020.ppm\"\n",
    "image = load_ppm(ppm_filename)\n",
    "\n",
    "plt.imshow(image)\n",
    "plt.axis('off')\n",
    "plt.show()"
   ]
  }
 ],
 "metadata": {
  "language_info": {
   "name": "python"
  }
 },
 "nbformat": 4,
 "nbformat_minor": 2
}
