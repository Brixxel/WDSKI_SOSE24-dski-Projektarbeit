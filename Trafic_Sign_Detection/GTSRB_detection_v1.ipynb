{
 "cells": [
  {
   "cell_type": "code",
   "execution_count": 45,
   "metadata": {},
   "outputs": [],
   "source": [
    "import glob\n",
    "import numpy as np\n",
    "import cv2\n",
    "from sklearn.model_selection import train_test_split\n",
    "from tensorflow.keras.utils import to_categorical\n",
    "from tensorflow.keras.models import Sequential\n",
    "from tensorflow.keras.layers import Conv2D, MaxPooling2D, Dense, Flatten, Dropout\n",
    "\n",
    "from tensorflow.keras import layers, models\n",
    "\n",
    "from skimage.transform import resize\n",
    "\n",
    "import matplotlib.pyplot as plt\n",
    "import csv\n",
    "\n",
    "import random\n",
    "\n",
    "import os\n",
    "\n",
    "import pandas as pd\n",
    "import tensorflow as tf\n"
   ]
  },
  {
   "cell_type": "markdown",
   "metadata": {},
   "source": [
    "## Steuerungs-Parameter"
   ]
  },
  {
   "cell_type": "code",
   "execution_count": 2,
   "metadata": {},
   "outputs": [],
   "source": [
    "#Parameter\n",
    "\n",
    "#Speicherort der Test-Daten for example './GTSRB/Training'\n",
    "TRAINING_DATA_PATH = \"Z:/Daten/Universität/DSKI_Projektarbeit/DATA_DSKI_Projekt/GTSRB_Final_Training_Images/GTSRB/Final_Training/Images\" #\"C:/Users/de136581/Documents/Uni/SoSe_2024/DSKI_Projekt/Data_trafic_Signs/Final_Training/GTSRB/Final_Training/Images\" \n",
    "\n",
    "TEST_DATA_PATH = \"Z:/Daten/Universität/DSKI_Projektarbeit/DATA_DSKI_Projekt/GTSRB_Online-Test-Images/GTSRB/Online-Test/Images\""
   ]
  },
  {
   "cell_type": "markdown",
   "metadata": {},
   "source": [
    "## Allgemeine Funktionen"
   ]
  },
  {
   "cell_type": "code",
   "execution_count": 3,
   "metadata": {},
   "outputs": [],
   "source": [
    "# function for reading the images\n",
    "# arguments: path to the traffic sign data, for example './GTSRB/Training'\n",
    "# returns: list of images, list of corresponding labels \n",
    "def readTrafficSigns(rootpath):\n",
    "    '''Reads traffic sign data for German Traffic Sign Recognition Benchmark.\n",
    "\n",
    "    Arguments: path to the traffic sign data, for example './GTSRB/Training'\n",
    "    Returns:   list of images, list of corresponding labels'''\n",
    "    images = [] # images\n",
    "    labels = [] # corresponding labels\n",
    "    # loop over all 42 classes\n",
    "    for c in range(0,43):\n",
    "        prefix = rootpath + '/' + format(c, '05d') + '/' # subdirectory for class\n",
    "        gtFile = open(prefix + 'GT-'+ format(c, '05d') + '.csv') # annotations file\n",
    "        gtReader = csv.reader(gtFile, delimiter=';') # csv parser for annotations file\n",
    "        next(gtReader) # skip header\n",
    "        # loop over all images in current annotations file\n",
    "        for row in gtReader:\n",
    "            images.append(plt.imread(prefix + row[0])) # the 1th column is the filename\n",
    "            labels.append(row[7]) # the 8th column is the label\n",
    "        gtFile.close()\n",
    "    return images, labels\n",
    "\n",
    "def format_imgs(imgs_lst):\n",
    "    new_size = (32, 32)\n",
    "    resized_images = []\n",
    "    for img in imgs_lst:\n",
    "        resized_img = resize(img, new_size, anti_aliasing=True)\n",
    "        resized_images.append(resized_img)\n",
    "\n",
    "    return np.array(resized_images)"
   ]
  },
  {
   "cell_type": "code",
   "execution_count": 13,
   "metadata": {},
   "outputs": [],
   "source": [
    "# Mapper Funktion Klassennummer - Verkehrszeichen\n",
    "def get_traffic_sign_name(class_id):\n",
    "    # Dictionary that maps class IDs to traffic sign names in German\n",
    "    class_id_to_name = {\n",
    "        0: \"Geschwindigkeitsbegrenzung (20km/h)\",\n",
    "        1: \"Geschwindigkeitsbegrenzung (30km/h)\",\n",
    "        2: \"Geschwindigkeitsbegrenzung (50km/h)\",\n",
    "        3: \"Geschwindigkeitsbegrenzung (60km/h)\",\n",
    "        4: \"Geschwindigkeitsbegrenzung (70km/h)\",\n",
    "        5: \"Geschwindigkeitsbegrenzung (80km/h)\",\n",
    "        6: \"Ende der Geschwindigkeitsbegrenzung (80km/h)\",\n",
    "        7: \"Geschwindigkeitsbegrenzung (100km/h)\",\n",
    "        8: \"Geschwindigkeitsbegrenzung (120km/h)\",\n",
    "        9: \"Überholverbot\",\n",
    "        10: \"Überholverbot für Fahrzeuge über 3,5 Tonnen\",\n",
    "        11: \"Vorfahrt an der nächsten Kreuzung\",\n",
    "        12: \"Vorfahrtstraße\",\n",
    "        13: \"Vorfahrt gewähren\",\n",
    "        14: \"Halt\",\n",
    "        15: \"Verbot für Fahrzeuge\",\n",
    "        16: \"Verbot für Fahrzeuge über 3,5 Tonnen\",\n",
    "        17: \"Einfahrt verboten\",\n",
    "        18: \"Allgemeine Gefahr\",\n",
    "        19: \"Gefährliche Kurve nach links\",\n",
    "        20: \"Gefährliche Kurve nach rechts\",\n",
    "        21: \"Doppelkurve\",\n",
    "        22: \"Unebene Fahrbahn\",\n",
    "        23: \"Schleudergefahr bei Nässe oder Schmutz\",\n",
    "        24: \"Fahrbahnverengung\",\n",
    "        25: \"Baustelle\",\n",
    "        26: \"Ampel\",\n",
    "        27: \"Fußgänger\",\n",
    "        28: \"Kinder\",\n",
    "        29: \"Radfahrer\",\n",
    "        30: \"Schnee- oder Eisglätte\",\n",
    "        31: \"Wildwechsel\",\n",
    "        32: \"Ende aller Streckenverbote\",\n",
    "        33: \"Rechts abbiegen\",\n",
    "        34: \"Links abbiegen\",\n",
    "        35: \"Geradeaus\",\n",
    "        36: \"Geradeaus oder rechts\",\n",
    "        37: \"Geradeaus oder links\",\n",
    "        38: \"Rechts vorbei\",\n",
    "        39: \"Links vorbei\",\n",
    "        40: \"Kreisverkehr\",\n",
    "        41: \"Ende des Überholverbots\",\n",
    "        42: \"Ende des Überholverbots für Fahrzeuge über 3,5 Tonnen\"\n",
    "    }\n",
    "    \n",
    "    # Return the name of the traffic sign corresponding to the given class ID\n",
    "    return class_id_to_name.get(class_id, \"Unbekannte Klassennummer\")"
   ]
  },
  {
   "cell_type": "markdown",
   "metadata": {},
   "source": [
    "### Dateneinlesen\n",
    "\n",
    "für alle Klassifizierungen"
   ]
  },
  {
   "cell_type": "code",
   "execution_count": 36,
   "metadata": {},
   "outputs": [],
   "source": [
    "# Trainings und Testdaten vorbereiten\n",
    "trainImages, trainLabels =  readTrafficSigns(TRAINING_DATA_PATH)"
   ]
  },
  {
   "cell_type": "markdown",
   "metadata": {},
   "source": [
    "## Binäre Klassifikation"
   ]
  },
  {
   "cell_type": "code",
   "execution_count": 40,
   "metadata": {},
   "outputs": [],
   "source": [
    "bin_labels = np.where( np.array(trainLabels) == 1, 1, 0)\n",
    "# Train-Test-Aufteilung\n",
    "bin_img_train, bin_img_test, bin_labels_train, bin_labels_test = train_test_split(trainImages,  bin_labels, test_size=0.2, random_state=42)\n",
    "\n",
    "# Daten normalisieren\n",
    "bin_img_train = format_imgs(bin_img_train) / 255\n",
    "bin_img_test = format_imgs(bin_img_test) / 255\n",
    "\n",
    "# Labels zu kategorischen Daten umwandeln\n",
    "bin_labels_train = to_categorical(bin_labels_train, 2)\n",
    "bin_labels_test = to_categorical(bin_labels_test, 2)"
   ]
  },
  {
   "cell_type": "code",
   "execution_count": 46,
   "metadata": {},
   "outputs": [],
   "source": [
    "# CNN-Modell erstellen\n",
    "model = Sequential([\n",
    "    Conv2D(32, (3, 3), activation='relu', input_shape=(32, 32, 3)),\n",
    "    MaxPooling2D((2, 2)),\n",
    "    Conv2D(64, (3, 3), activation='relu'),\n",
    "    MaxPooling2D((2, 2)),\n",
    "    Flatten(),\n",
    "    Dense(128, activation='relu'),\n",
    "    Dropout(0.5),\n",
    "    Dense(2, activation='softmax')\n",
    "])\n",
    "\n",
    "# Modell kompilieren\n",
    "model.compile(optimizer='adam', loss='binary_crossentropy', metrics=['accuracy'])\n",
    "\n",
    "# Modell trainieren\n",
    "history = model.fit(bin_img_train, bin_labels_train, epochs=10, validation_data=(bin_img_test, bin_labels_test), batch_size=32)"
   ]
  },
  {
   "cell_type": "markdown",
   "metadata": {},
   "source": [
    "### Gütemaß Genauigkeit (Accuracy)\n",
    "\n",
    "**Beachte:** Die Genauigkeit gibt an, wie groß der Anteil aller von einem Klassifikator korrekt bewerteten Objekte an der Gesamtheit aller Objekte ist."
   ]
  },
  {
   "cell_type": "code",
   "execution_count": 49,
   "metadata": {},
   "outputs": [
    {
     "name": "stdout",
     "output_type": "stream",
     "text": [
      "\u001b[1m246/246\u001b[0m \u001b[32m━━━━━━━━━━━━━━━━━━━━\u001b[0m\u001b[37m\u001b[0m \u001b[1m2s\u001b[0m 7ms/step - accuracy: 1.0000 - loss: 7.3262e-17\n",
      "Validation accuracy: 1.0\n"
     ]
    },
    {
     "data": {
      "image/png": "[encoded data removed]",
      "text/plain": [
       "<Figure size 640x480 with 1 Axes>"
      ]
     },
     "metadata": {},
     "output_type": "display_data"
    }
   ],
   "source": [
    "# Modellbewertung\n",
    "val_loss, val_acc = model.evaluate(bin_img_test, bin_labels_test)\n",
    "print(f'Validation accuracy: {val_acc}')\n",
    "\n",
    "# Plotten der Trainingsgeschichte\n",
    "import matplotlib.pyplot as plt\n",
    "\n",
    "plt.plot(history.history['accuracy'], label='Training accuracy')\n",
    "plt.plot(history.history['val_accuracy'], label='Validation accuracy')\n",
    "plt.xlabel('Epoch')\n",
    "plt.ylabel('Accuracy')\n",
    "plt.legend(loc='lower right')\n",
    "plt.show()"
   ]
  },
  {
   "cell_type": "markdown",
   "metadata": {},
   "source": [
    "## CNN Multiclass"
   ]
  },
  {
   "cell_type": "code",
   "execution_count": 23,
   "metadata": {},
   "outputs": [],
   "source": [
    "# Train-Test-Aufteilung\n",
    "img_train, img_test, labels_train, labels_test = train_test_split(trainImages,  trainLabels, test_size=0.2, random_state=42)\n",
    "# One-Hot-Encoding der Labels\n",
    "labels_train = to_categorical(labels_train, 43)\n",
    "labels_test = to_categorical(labels_test, 43)\n",
    "\n",
    "img_train = format_imgs(img_train)\n",
    "img_test = format_imgs(img_test)"
   ]
  },
  {
   "cell_type": "code",
   "execution_count": 20,
   "metadata": {},
   "outputs": [
    {
     "data": {
      "image/png": "[encoded data removed]",
      "text/plain": [
       "<Figure size 640x480 with 1 Axes>"
      ]
     },
     "metadata": {},
     "output_type": "display_data"
    }
   ],
   "source": [
    "# Wähle ein zufälliges Bild aus dem Trainingsdatensatz\n",
    "random_index = np.random.randint(0, len(img_train))\n",
    "bsp_image = img_train[random_index]\n",
    "bsp_label = labels_train[random_index]\n",
    "\n",
    "# Zeige das Bild an\n",
    "plt.imshow(bsp_image.squeeze(), cmap='gray')\n",
    "plt.title(f\"Zufälliges Testbild der Klasse: {get_traffic_sign_name(np.argmax(bsp_label))}\")\n",
    "plt.axis('off')\n",
    "plt.show()"
   ]
  },
  {
   "cell_type": "code",
   "execution_count": 9,
   "metadata": {},
   "outputs": [
    {
     "name": "stderr",
     "output_type": "stream",
     "text": [
      "c:\\Users\\felix\\AppData\\Local\\Programs\\Python\\Python312\\Lib\\site-packages\\keras\\src\\layers\\convolutional\\base_conv.py:107: UserWarning: Do not pass an `input_shape`/`input_dim` argument to a layer. When using Sequential models, prefer using an `Input(shape)` object as the first layer in the model instead.\n",
      "  super().__init__(activity_regularizer=activity_regularizer, **kwargs)\n"
     ]
    }
   ],
   "source": [
    "# Modellarchitektur\n",
    "# Definiere das Modell\n",
    "model = models.Sequential()\n",
    "model.add(layers.Conv2D(32, (3, 3), activation='relu', input_shape=(32, 32, 3)))\n",
    "model.add(layers.MaxPooling2D((2, 2)))\n",
    "model.add(layers.Flatten())\n",
    "model.add(layers.Dense(128, activation='relu'))\n",
    "model.add(layers.Dense(43, activation='softmax'))  # 43 Klassen für Verkehrszeichen\n",
    "\n",
    "# Kompiliere das Modell\n",
    "model.compile(optimizer='adam',\n",
    "              loss='categorical_crossentropy',\n",
    "              metrics=['accuracy'])"
   ]
  },
  {
   "cell_type": "code",
   "execution_count": 10,
   "metadata": {},
   "outputs": [
    {
     "name": "stdout",
     "output_type": "stream",
     "text": [
      "Epoch 1/10\n",
      "\u001b[1m981/981\u001b[0m \u001b[32m━━━━━━━━━━━━━━━━━━━━\u001b[0m\u001b[37m\u001b[0m \u001b[1m16s\u001b[0m 15ms/step - accuracy: 0.4358 - loss: 2.2144 - val_accuracy: 0.8776 - val_loss: 0.5075\n",
      "Epoch 2/10\n",
      "\u001b[1m981/981\u001b[0m \u001b[32m━━━━━━━━━━━━━━━━━━━━\u001b[0m\u001b[37m\u001b[0m \u001b[1m14s\u001b[0m 14ms/step - accuracy: 0.8992 - loss: 0.4045 - val_accuracy: 0.9143 - val_loss: 0.3131\n",
      "Epoch 3/10\n",
      "\u001b[1m981/981\u001b[0m \u001b[32m━━━━━━━━━━━━━━━━━━━━\u001b[0m\u001b[37m\u001b[0m \u001b[1m14s\u001b[0m 15ms/step - accuracy: 0.9504 - loss: 0.2142 - val_accuracy: 0.9420 - val_loss: 0.2277\n",
      "Epoch 4/10\n",
      "\u001b[1m981/981\u001b[0m \u001b[32m━━━━━━━━━━━━━━━━━━━━\u001b[0m\u001b[37m\u001b[0m \u001b[1m14s\u001b[0m 15ms/step - accuracy: 0.9643 - loss: 0.1425 - val_accuracy: 0.9589 - val_loss: 0.1694\n",
      "Epoch 5/10\n",
      "\u001b[1m981/981\u001b[0m \u001b[32m━━━━━━━━━━━━━━━━━━━━\u001b[0m\u001b[37m\u001b[0m \u001b[1m14s\u001b[0m 14ms/step - accuracy: 0.9743 - loss: 0.1060 - val_accuracy: 0.9686 - val_loss: 0.1427\n",
      "Epoch 6/10\n",
      "\u001b[1m981/981\u001b[0m \u001b[32m━━━━━━━━━━━━━━━━━━━━\u001b[0m\u001b[37m\u001b[0m \u001b[1m14s\u001b[0m 15ms/step - accuracy: 0.9805 - loss: 0.0816 - val_accuracy: 0.9661 - val_loss: 0.1481\n",
      "Epoch 7/10\n",
      "\u001b[1m981/981\u001b[0m \u001b[32m━━━━━━━━━━━━━━━━━━━━\u001b[0m\u001b[37m\u001b[0m \u001b[1m14s\u001b[0m 15ms/step - accuracy: 0.9838 - loss: 0.0647 - val_accuracy: 0.9702 - val_loss: 0.1298\n",
      "Epoch 8/10\n",
      "\u001b[1m981/981\u001b[0m \u001b[32m━━━━━━━━━━━━━━━━━━━━\u001b[0m\u001b[37m\u001b[0m \u001b[1m14s\u001b[0m 15ms/step - accuracy: 0.9857 - loss: 0.0536 - val_accuracy: 0.9647 - val_loss: 0.1520\n",
      "Epoch 9/10\n",
      "\u001b[1m981/981\u001b[0m \u001b[32m━━━━━━━━━━━━━━━━━━━━\u001b[0m\u001b[37m\u001b[0m \u001b[1m14s\u001b[0m 15ms/step - accuracy: 0.9889 - loss: 0.0431 - val_accuracy: 0.9671 - val_loss: 0.1513\n",
      "Epoch 10/10\n",
      "\u001b[1m981/981\u001b[0m \u001b[32m━━━━━━━━━━━━━━━━━━━━\u001b[0m\u001b[37m\u001b[0m \u001b[1m14s\u001b[0m 15ms/step - accuracy: 0.9901 - loss: 0.0391 - val_accuracy: 0.9745 - val_loss: 0.1230\n"
     ]
    },
    {
     "data": {
      "text/plain": [
       "<keras.src.callbacks.history.History at 0x23cffd77200>"
      ]
     },
     "execution_count": 10,
     "metadata": {},
     "output_type": "execute_result"
    }
   ],
   "source": [
    "model.fit(img_train, labels_train, epochs=10, batch_size=32, validation_data=(img_test, labels_test)) #, validation_data=(img_test, labels_test)"
   ]
  },
  {
   "cell_type": "code",
   "execution_count": null,
   "metadata": {},
   "outputs": [],
   "source": [
    "#Testen des Modells:\n",
    "    \n",
    "# Wähle ein zufälliges Bild aus dem Testdatensatz\n",
    "random_index = np.random.randint(0, len(img_test))\n",
    "test_image = img_test[random_index]\n",
    "true_label = labels_test[random_index]\n",
    "\n",
    "# Zeige das Bild an\n",
    "plt.imshow(test_image.squeeze(), cmap='gray')\n",
    "plt.title(f\"Zufälliges Testbild der Klasse: {get_traffic_sign_name(np.argmax(true_label))}\")\n",
    "plt.axis('off')\n",
    "plt.show()\n",
    "\n",
    "# Klassifiziere das Bild mit dem trainierten Modell\n",
    "predicted_probs = model.predict(np.expand_dims(test_image, axis=0))\n",
    "predicted_class = np.argmax(predicted_probs)\n",
    "\n",
    "# Gib die Klassifizierung und die Wahrscheinlichkeit aus\n",
    "print(f\"Vorhergesagte Klasse: {predicted_class}\")\n",
    "print(f\"Wahrscheinlichkeit: {predicted_probs[0][predicted_class]:.2f}\")"
   ]
  },
  {
   "cell_type": "markdown",
   "metadata": {},
   "source": [
    "### Modellevaluation\n",
    "\n",
    "... hier noch verschiedene Gütemaße und Wahrheitsmatrix"
   ]
  },
  {
   "cell_type": "code",
   "execution_count": null,
   "metadata": {},
   "outputs": [],
   "source": [
    "# Modellbewertung\n",
    "val_loss, val_acc = model.evaluate(bin_img_test, bin_labels_test)\n",
    "print(f'Validation accuracy: {val_acc}')\n",
    "\n",
    "# Plotten der Trainingsgeschichte\n",
    "import matplotlib.pyplot as plt\n",
    "\n",
    "plt.plot(history.history['accuracy'], label='Training accuracy')\n",
    "plt.plot(history.history['val_accuracy'], label='Validation accuracy')\n",
    "plt.xlabel('Epoch')\n",
    "plt.ylabel('Accuracy')\n",
    "plt.legend(loc='lower right')\n",
    "plt.show()"
   ]
  },
  {
   "cell_type": "markdown",
   "metadata": {},
   "source": [
    "## SVM als Klassifizierer"
   ]
  },
  {
   "cell_type": "code",
   "execution_count": 4,
   "metadata": {},
   "outputs": [],
   "source": [
    "import os\n",
    "import numpy as np\n",
    "import cv2\n",
    "from sklearn.model_selection import train_test_split\n",
    "from sklearn.svm import SVC\n",
    "from sklearn.metrics import accuracy_score, classification_report"
   ]
  },
  {
   "cell_type": "code",
   "execution_count": 5,
   "metadata": {},
   "outputs": [],
   "source": [
    "# Trainings und Testdaten vorbereiten\n",
    "trainImages, trainLabels =  readTrafficSigns(TRAINING_DATA_PATH)"
   ]
  },
  {
   "cell_type": "code",
   "execution_count": 6,
   "metadata": {},
   "outputs": [],
   "source": [
    "images = format_imgs(trainImages)"
   ]
  },
  {
   "cell_type": "code",
   "execution_count": 7,
   "metadata": {},
   "outputs": [],
   "source": [
    "labels = trainLabels"
   ]
  },
  {
   "cell_type": "code",
   "execution_count": 8,
   "metadata": {},
   "outputs": [
    {
     "name": "stdout",
     "output_type": "stream",
     "text": [
      "Bildgröße: (39209, 32, 32, 3)\n"
     ]
    }
   ],
   "source": [
    "# Überprüfen, ob alle Bilder die gleiche Größe haben\n",
    "print(\"Bildgröße:\", np.array(images).shape)  # Sollte (Anzahl_Bilder, 32, 32) sein\n",
    "\n",
    "# Daten normalisieren und in das richtige Format bringen\n",
    "X = np.array(images).reshape(len(images), -1) / 255.0\n",
    "y = np.array(labels)"
   ]
  },
  {
   "cell_type": "code",
   "execution_count": 9,
   "metadata": {},
   "outputs": [],
   "source": [
    "# Daten in Trainings- und Testdaten aufteilen\n",
    "X_train, X_test, y_train, y_test = train_test_split(X, y, test_size=0.2, random_state=42)"
   ]
  },
  {
   "cell_type": "code",
   "execution_count": 10,
   "metadata": {},
   "outputs": [],
   "source": [
    "# SVM Modell erstellen\n",
    "svm_model = SVC(kernel='linear', C=1.0, random_state=42)"
   ]
  },
  {
   "cell_type": "code",
   "execution_count": 11,
   "metadata": {},
   "outputs": [
    {
     "name": "stdout",
     "output_type": "stream",
     "text": [
      "Trainingszeit: 3909.09 Sekunden\n"
     ]
    }
   ],
   "source": [
    "# Trainingszeit messen\n",
    "import time\n",
    "start_time = time.time()\n",
    "\n",
    "svm_model.fit(X_train, y_train)\n",
    "\n",
    "end_time = time.time()\n",
    "training_time = end_time - start_time\n",
    "print(f\"Trainingszeit: {training_time:.2f} Sekunden\")"
   ]
  },
  {
   "cell_type": "code",
   "execution_count": 12,
   "metadata": {},
   "outputs": [
    {
     "name": "stdout",
     "output_type": "stream",
     "text": [
      "Genauigkeit: 13.22%\n",
      "              precision    recall  f1-score   support\n",
      "\n",
      "           0       0.00      0.00      0.00        38\n",
      "           1       0.18      0.33      0.24       496\n",
      "          10       0.07      0.81      0.14       370\n",
      "          11       0.00      0.00      0.00       236\n",
      "          12       0.88      0.03      0.06       450\n",
      "          13       0.39      0.30      0.34       452\n",
      "          14       0.00      0.00      0.00       162\n",
      "          15       0.00      0.00      0.00       120\n",
      "          16       0.00      0.00      0.00        90\n",
      "          17       0.00      0.00      0.00       219\n",
      "          18       0.00      0.00      0.00       231\n",
      "          19       0.00      0.00      0.00        43\n",
      "           2       0.12      0.46      0.20       450\n",
      "          20       0.00      0.00      0.00        78\n",
      "          21       0.00      0.00      0.00        63\n",
      "          22       0.00      0.00      0.00        86\n",
      "          23       0.00      0.00      0.00       109\n",
      "          24       0.00      0.00      0.00        59\n",
      "          25       0.00      0.00      0.00       298\n",
      "          26       0.00      0.00      0.00       122\n",
      "          27       0.00      0.00      0.00        47\n",
      "          28       0.00      0.00      0.00        99\n",
      "          29       0.00      0.00      0.00        59\n",
      "           3       0.00      0.00      0.00       280\n",
      "          30       0.00      0.00      0.00        95\n",
      "          31       0.00      0.00      0.00       160\n",
      "          32       0.00      0.00      0.00        41\n",
      "          33       0.00      0.00      0.00       138\n",
      "          34       0.00      0.00      0.00        88\n",
      "          35       1.00      0.06      0.11       224\n",
      "          36       0.00      0.00      0.00        80\n",
      "          37       0.00      0.00      0.00        47\n",
      "          38       0.27      0.45      0.33       418\n",
      "          39       0.00      0.00      0.00        58\n",
      "           4       0.25      0.01      0.02       418\n",
      "          40       0.00      0.00      0.00        60\n",
      "          41       0.00      0.00      0.00        47\n",
      "          42       0.00      0.00      0.00        41\n",
      "           5       0.08      0.02      0.03       364\n",
      "           6       0.00      0.00      0.00        59\n",
      "           7       0.00      0.00      0.00       278\n",
      "           8       0.00      0.00      0.00       301\n",
      "           9       0.00      0.00      0.00       268\n",
      "\n",
      "    accuracy                           0.13      7842\n",
      "   macro avg       0.08      0.06      0.03      7842\n",
      "weighted avg       0.16      0.13      0.08      7842\n",
      "\n"
     ]
    },
    {
     "name": "stderr",
     "output_type": "stream",
     "text": [
      "c:\\Users\\felix\\AppData\\Local\\Programs\\Python\\Python312\\Lib\\site-packages\\sklearn\\metrics\\_classification.py:1517: UndefinedMetricWarning: Precision is ill-defined and being set to 0.0 in labels with no predicted samples. Use `zero_division` parameter to control this behavior.\n",
      "  _warn_prf(average, modifier, f\"{metric.capitalize()} is\", len(result))\n",
      "c:\\Users\\felix\\AppData\\Local\\Programs\\Python\\Python312\\Lib\\site-packages\\sklearn\\metrics\\_classification.py:1517: UndefinedMetricWarning: Precision is ill-defined and being set to 0.0 in labels with no predicted samples. Use `zero_division` parameter to control this behavior.\n",
      "  _warn_prf(average, modifier, f\"{metric.capitalize()} is\", len(result))\n",
      "c:\\Users\\felix\\AppData\\Local\\Programs\\Python\\Python312\\Lib\\site-packages\\sklearn\\metrics\\_classification.py:1517: UndefinedMetricWarning: Precision is ill-defined and being set to 0.0 in labels with no predicted samples. Use `zero_division` parameter to control this behavior.\n",
      "  _warn_prf(average, modifier, f\"{metric.capitalize()} is\", len(result))\n"
     ]
    }
   ],
   "source": [
    "# Vorhersagen auf den Testdaten\n",
    "y_pred = svm_model.predict(X_test)\n",
    "\n",
    "# Genauigkeit berechnen\n",
    "accuracy = accuracy_score(y_test, y_pred)\n",
    "print(f'Genauigkeit: {accuracy * 100:.2f}%')\n",
    "\n",
    "# Klassifikationsbericht anzeigen\n",
    "print(classification_report(y_test, y_pred))"
   ]
  },
  {
   "cell_type": "markdown",
   "metadata": {},
   "source": [
    "## Vergleich SVM vs CNN"
   ]
  },
  {
   "cell_type": "markdown",
   "metadata": {},
   "source": [
    "... aufgreifen vorheriger Gütemaße und hier dann folgender Verglich von SVM und CNN"
   ]
  }
 ],
 "metadata": {
  "kernelspec": {
   "display_name": "Python 3",
   "language": "python",
   "name": "python3"
  },
  "language_info": {
   "codemirror_mode": {
    "name": "ipython",
    "version": 3
   },
   "file_extension": ".py",
   "mimetype": "text/x-python",
   "name": "python",
   "nbconvert_exporter": "python",
   "pygments_lexer": "ipython3",
   "version": "3.12.1"
  }
 },
 "nbformat": 4,
 "nbformat_minor": 2
}
